{
 "cells": [
  {
   "cell_type": "code",
   "execution_count": 1,
   "metadata": {},
   "outputs": [],
   "source": [
    "import cv2\n",
    "import pytesseract"
   ]
  },
  {
   "cell_type": "code",
   "execution_count": 2,
   "metadata": {},
   "outputs": [],
   "source": [
    "pytesseract.pytesseract.tesseract_cmd = r\"C:\\Program Files\\Tesseract-OCR\\tesseract.exe\"\n"
   ]
  },
  {
   "cell_type": "code",
   "execution_count": 31,
   "metadata": {},
   "outputs": [],
   "source": [
    "img = cv2.imread(r\"C:\\Users\\rj100\\OneDrive\\Pictures\\pancard.jpg\")\n",
    "img = cv2.cvtColor(img,cv2.COLOR_BGR2GRAY)\n",
    "text = pytesseract.image_to_string(img, config = \"--psm 12 --oem 3 -c tessedit_char_whitelist=ABCDEFGHIJKLMNOPQRSTUVWXYZ0123456789\")"
   ]
  },
  {
   "cell_type": "code",
   "execution_count": 32,
   "metadata": {},
   "outputs": [
    {
     "name": "stdout",
     "output_type": "stream",
     "text": [
      "SF\n",
      "\n",
      "ANRAUH\n",
      "\n",
      "INCOMETAXDEPARTMENT\n",
      "\n",
      "GOVTOFINDIA\n",
      "\n",
      "PANC\n",
      "\n",
      "4\n",
      "\n",
      "W\n",
      "\n",
      "ELWPM8089J\n",
      "\n",
      "TAN\n",
      "\n",
      "RAHULMISHRA\n",
      "\n",
      "FATAFN\n",
      "\n",
      "SATENDRAMISHRA\n",
      "\n",
      "US\n",
      "\n",
      "SHHTRDOFB\n",
      "\n",
      "30011997\n",
      "\n",
      "S\n",
      "\n",
      "17022018\n",
      "\f",
      "\n"
     ]
    }
   ],
   "source": [
    "print(text)\n",
    "\n"
   ]
  },
  {
   "cell_type": "code",
   "execution_count": 34,
   "metadata": {},
   "outputs": [
    {
     "name": "stdout",
     "output_type": "stream",
     "text": [
      "ARAUHT\n",
      "\n",
      "GOVTOFINDIA\n",
      "\n",
      "PANC\n",
      "\n",
      "BGYPJ0129A\n",
      "\n",
      "S\n",
      "\f",
      "\n"
     ]
    }
   ],
   "source": [
    "img2 = cv2.imread(r\"C:\\Users\\rj100\\OneDrive\\Pictures\\pancard(2).jpg\")\n",
    "text = pytesseract.image_to_string(img2, config = \"--psm 12 --oem 3 -c tessedit_char_whitelist=ABCDEFGHIJKLMNOPQRSTUVWXYZ0123456789\")\n",
    "print(text)\n"
   ]
  },
  {
   "cell_type": "code",
   "execution_count": 35,
   "metadata": {},
   "outputs": [
    {
     "name": "stdout",
     "output_type": "stream",
     "text": [
      "ARAUHI\n",
      "\n",
      "GOVTOFINDIA\n",
      "\n",
      "INCOMETAXDEPARTMENT\n",
      "\n",
      "TS\n",
      "\n",
      "PANC\n",
      "\n",
      "BXAPC1000L\n",
      "\n",
      "ATAN\n",
      "\n",
      "CHUNARAMANISHKANUBHAI\n",
      "\n",
      "141HFN\n",
      "\n",
      "KANUBHAIISHWARBHAICHUNARA\n",
      "\n",
      "608018\n",
      "\n",
      "H\n",
      "\n",
      "DB\n",
      "\n",
      "M\n",
      "\n",
      "13091996\n",
      "\n",
      "HEMATS\n",
      "\f",
      "\n"
     ]
    }
   ],
   "source": [
    "img3 = cv2.imread(r\"C:\\Users\\rj100\\OneDrive\\Pictures\\pancard(3).jpg\")\n",
    "text = pytesseract.image_to_string(img3, config = \"--psm 12 --oem 3 -c tessedit_char_whitelist=ABCDEFGHIJKLMNOPQRSTUVWXYZ0133456789\")\n",
    "print(text)"
   ]
  },
  {
   "cell_type": "code",
   "execution_count": null,
   "metadata": {},
   "outputs": [],
   "source": []
  }
 ],
 "metadata": {
  "kernelspec": {
   "display_name": "Python 3",
   "language": "python",
   "name": "python3"
  },
  "language_info": {
   "codemirror_mode": {
    "name": "ipython",
    "version": 3
   },
   "file_extension": ".py",
   "mimetype": "text/x-python",
   "name": "python",
   "nbconvert_exporter": "python",
   "pygments_lexer": "ipython3",
   "version": "3.7.9"
  }
 },
 "nbformat": 4,
 "nbformat_minor": 4
}
